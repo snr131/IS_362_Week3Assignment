{
 "cells": [
  {
   "cell_type": "markdown",
   "id": "stuck-optics",
   "metadata": {},
   "source": [
    "# IS 362 Assignment 3: Bicycle Odometer"
   ]
  },
  {
   "cell_type": "markdown",
   "id": "medium-coral",
   "metadata": {},
   "source": [
    "**Prompt:**\n",
    "Suppose you have ridden a bicycle from New York City to Key West, Florida. Your bicycle odometer shows the total miles, which you have dutifully logged at the end of each day with paper and pencil. Your first two entries might be 55 and 120, indicating that you rode your bike 55 miles on day 1 and 65 miles on day 2. Your task is to create a pandas Series object that holds the cumulative miles at the end of each day, then use your Python skills to show the total miles that you rode each day. Consider how you should best present this information in a Jupyter notebook. You should save your Jupyter Notebook to your GitHub repository, and provide a link in your assignment submission."
   ]
  },
  {
   "cell_type": "markdown",
   "id": "rapid-wright",
   "metadata": {},
   "source": [
    "### Import libraries "
   ]
  },
  {
   "cell_type": "markdown",
   "id": "creative-arcade",
   "metadata": {},
   "source": [
    "Import pandas and datetime to convert a daily miles dictionary to a pandas Series that uses a datetime index. Import matplotlib and seaborn to visualize the pandas Series."
   ]
  },
  {
   "cell_type": "code",
   "execution_count": 1,
   "id": "stunning-release",
   "metadata": {
    "scrolled": true
   },
   "outputs": [],
   "source": [
    "import pandas as pd\n",
    "import datetime \n",
    "import matplotlib.pyplot as plt\n",
    "import seaborn as sns"
   ]
  },
  {
   "cell_type": "markdown",
   "id": "unknown-mississippi",
   "metadata": {},
   "source": [
    "### Create a Python dictionary"
   ]
  },
  {
   "cell_type": "markdown",
   "id": "supposed-fitting",
   "metadata": {},
   "source": [
    "A Python dictionary keeps track of past entries, with the date formatted as a string to represent the key and the miles completed as the corresponding value."
   ]
  },
  {
   "cell_type": "code",
   "execution_count": 2,
   "id": "classified-entry",
   "metadata": {},
   "outputs": [],
   "source": [
    "daily_miles_dict = {'2021-02-16': 55, '2021-02-17': 65}"
   ]
  },
  {
   "cell_type": "markdown",
   "id": "overhead-statistics",
   "metadata": {},
   "source": [
    "A function called new_entry uses datetime to generate today's date, and asks for the user to input miles completed. The key and value are added to the daily_miles_dict."
   ]
  },
  {
   "cell_type": "code",
   "execution_count": 3,
   "id": "about-wrestling",
   "metadata": {},
   "outputs": [],
   "source": [
    "def new_entry():\n",
    "    today = datetime.date.today()\n",
    "    user_input = input('How many miles did you ride today?\\n')\n",
    "    daily_miles_dict[today] = int(user_input)\n",
    "    return daily_miles_dict"
   ]
  },
  {
   "cell_type": "markdown",
   "id": "seven-improvement",
   "metadata": {},
   "source": [
    "### Run the code below to add user input to the daily_miles_dict"
   ]
  },
  {
   "cell_type": "code",
   "execution_count": 4,
   "id": "global-nirvana",
   "metadata": {},
   "outputs": [
    {
     "name": "stdout",
     "output_type": "stream",
     "text": [
      "How many miles did you ride today?\n",
      "75\n"
     ]
    }
   ],
   "source": [
    "todays_miles = new_entry()"
   ]
  },
  {
   "cell_type": "markdown",
   "id": "exotic-damages",
   "metadata": {},
   "source": [
    "### pandas Series"
   ]
  },
  {
   "cell_type": "markdown",
   "id": "peripheral-preference",
   "metadata": {},
   "source": [
    "The code below converts the daily_miles_dict to a pandas Series object. The indexes are converted to pandas datetime objects. "
   ]
  },
  {
   "cell_type": "code",
   "execution_count": 5,
   "id": "living-headset",
   "metadata": {},
   "outputs": [],
   "source": [
    "daily_miles_series = pd.Series(daily_miles_dict)\n",
    "daily_miles_series.index = pd.to_datetime(daily_miles_series.index)"
   ]
  },
  {
   "cell_type": "markdown",
   "id": "modular-operations",
   "metadata": {},
   "source": [
    "Check that the index type is now pandas datetime."
   ]
  },
  {
   "cell_type": "code",
   "execution_count": 6,
   "id": "useful-shelter",
   "metadata": {},
   "outputs": [
    {
     "name": "stdout",
     "output_type": "stream",
     "text": [
      "<class 'pandas.core.indexes.datetimes.DatetimeIndex'>\n"
     ]
    }
   ],
   "source": [
    "print(type(daily_miles_series.index))"
   ]
  },
  {
   "cell_type": "markdown",
   "id": "elementary-theme",
   "metadata": {},
   "source": [
    "Print the daily_miles_series pandas Series to show miles per day."
   ]
  },
  {
   "cell_type": "code",
   "execution_count": 7,
   "id": "willing-lounge",
   "metadata": {},
   "outputs": [
    {
     "name": "stdout",
     "output_type": "stream",
     "text": [
      "2021-02-16    55\n",
      "2021-02-17    65\n",
      "2021-02-18    75\n",
      "dtype: int64\n"
     ]
    }
   ],
   "source": [
    "print(daily_miles_series)"
   ]
  },
  {
   "cell_type": "markdown",
   "id": "integral-bracelet",
   "metadata": {},
   "source": [
    "## Bicycle Odometer:"
   ]
  },
  {
   "cell_type": "code",
   "execution_count": 8,
   "id": "christian-inflation",
   "metadata": {},
   "outputs": [],
   "source": [
    "bicycle_odometer = daily_miles_series.sum()"
   ]
  },
  {
   "cell_type": "markdown",
   "id": "objective-harmony",
   "metadata": {},
   "source": [
    "Run the code below to see the bicycle odometer grand total."
   ]
  },
  {
   "cell_type": "code",
   "execution_count": 9,
   "id": "medical-option",
   "metadata": {},
   "outputs": [
    {
     "name": "stdout",
     "output_type": "stream",
     "text": [
      "Total miles: 195\n"
     ]
    }
   ],
   "source": [
    "print('Total miles: {}'.format(bicycle_odometer))"
   ]
  },
  {
   "cell_type": "markdown",
   "id": "scheduled-circumstances",
   "metadata": {},
   "source": [
    "### Visualize miles per day"
   ]
  },
  {
   "cell_type": "markdown",
   "id": "typical-recipient",
   "metadata": {},
   "source": [
    "Using matplotlib and seaborn, plot the pandas Series"
   ]
  },
  {
   "cell_type": "code",
   "execution_count": 10,
   "id": "martial-arthritis",
   "metadata": {},
   "outputs": [
    {
     "data": {
      "text/plain": [
       "(array([18674., 18675., 18676.]),\n",
       " [Text(0, 0, ''), Text(0, 0, ''), Text(0, 0, '')])"
      ]
     },
     "execution_count": 10,
     "metadata": {},
     "output_type": "execute_result"
    },
    {
     "data": {
      "image/png": "[encoded data removed]",
      "text/plain": [
       "<Figure size 720x360 with 1 Axes>"
      ]
     },
     "metadata": {
      "needs_background": "light"
     },
     "output_type": "display_data"
    }
   ],
   "source": [
    "plt.figure(figsize = (10, 5))\n",
    "sns.scatterplot(data = daily_miles_series).set_title('Miles per Day')\n",
    "plt.xticks(daily_miles_series.index)\n",
    "plt.xticks(rotation=90)"
   ]
  }
 ],
 "metadata": {
  "kernelspec": {
   "display_name": "Python 3",
   "language": "python",
   "name": "python3"
  },
  "language_info": {
   "codemirror_mode": {
    "name": "ipython",
    "version": 3
   },
   "file_extension": ".py",
   "mimetype": "text/x-python",
   "name": "python",
   "nbconvert_exporter": "python",
   "pygments_lexer": "ipython3",
   "version": "3.8.6"
  }
 },
 "nbformat": 4,
 "nbformat_minor": 5
}
